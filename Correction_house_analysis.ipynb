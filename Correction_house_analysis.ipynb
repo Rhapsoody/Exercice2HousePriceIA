{
 "cells": [
  {
   "cell_type": "markdown",
   "metadata": {},
   "source": [
    "# House price\n",
    "\n",
    "---\n",
    "\n",
    "Le but de ce notebook est d'étudier un jeu de données de maison pour ainsi deviner le prix des maisons à partir de leur descriptif. Le jeu de données est accompagné d'un descriptif des variables. Si jamais vous n'arrivez pas à le récupérer sur git, il est aussi disponible à [cette adresse](https://www.kaggle.com/c/house-prices-advanced-regression-techniques/data)."
   ]
  },
  {
   "cell_type": "code",
   "execution_count": null,
   "metadata": {},
   "outputs": [],
   "source": [
    "# Import des bibliothèques pertinentes\n",
    "\n",
    "import plotly.express as px\n",
    "import plotly.graph_objects as go\n",
    "import pandas as pd\n",
    "import numpy as np\n",
    "import seaborn as sns\n",
    "from sklearn.linear_model import LinearRegression, Ridge, RidgeCV\n",
    "from sklearn.tree import DecisionTreeRegressor\n",
    "from sklearn.model_selection import train_test_split, KFold, RandomizedSearchCV\n",
    "from xgboost import XGBRegressor"
   ]
  },
  {
   "cell_type": "markdown",
   "metadata": {},
   "source": [
    "# Partie 1 : analyse de la qualité des données\n",
    "\n",
    "1) Importer les données. Combien de lignes possède-t-on ? Combien de colonnes ?\n",
    "2) Bon sang ! ça fait beaucoup de colonnes ! Parmi les colonnes, combien possèdent moins de 10 % de données non nulles ? Ce chiffre vous étonne-t-il ?\n",
    "2) Quelles sont les 10 colonnes avec le plus de variables manquantes ?\n",
    "3) Parmi les colonnes, combien possèdent 90 % de valeurs identiques ? Ce chiffre vous étonne-t-il ?\n",
    "4) Y a-t-il des doublons dans le jeu de données ?"
   ]
  },
  {
   "cell_type": "code",
   "execution_count": null,
   "metadata": {},
   "outputs": [],
   "source": [
    "# Récupération des données\n",
    "train_house = pd.read_csv(\"house_data/train.csv\")"
   ]
  },
  {
   "cell_type": "code",
   "execution_count": null,
   "metadata": {},
   "outputs": [],
   "source": [
    "# Question 2)\n",
    "print(f\"Notre dataframe contient {len(train_house)} lignes et {len(train_house.columns)} colonnes.\")"
   ]
  },
  {
   "cell_type": "code",
   "execution_count": null,
   "metadata": {},
   "outputs": [],
   "source": [
    "train_house.head()"
   ]
  },
  {
   "cell_type": "code",
   "execution_count": null,
   "metadata": {},
   "outputs": [],
   "source": [
    "train_house.info()"
   ]
  },
  {
   "cell_type": "code",
   "execution_count": null,
   "metadata": {},
   "outputs": [],
   "source": [
    "train_house.describe()"
   ]
  },
  {
   "cell_type": "code",
   "execution_count": null,
   "metadata": {},
   "outputs": [],
   "source": [
    "# Question 2)\n",
    "print(f\"Il y a {sum(train_house.isna().sum() > (len(train_house) * 0.9))} colonnes avec plus de 90 % de données vides.\")"
   ]
  },
  {
   "cell_type": "code",
   "execution_count": null,
   "metadata": {},
   "outputs": [],
   "source": [
    "# Afin de répondre à la question, on essaye d'identifier les trois colonnes avec des données manquantes.\n",
    "train_house.isna().sum()[train_house.isna().sum() > (len(train_house) * 0.9)]\n",
    "# On se rend compte qu'il s'agit de colonnes en rapport avec des détails \"de luxe\" (piscines et Allée).\n",
    "# La plupart des maisons ne doivent pas en avoir."
   ]
  },
  {
   "cell_type": "code",
   "execution_count": null,
   "metadata": {},
   "outputs": [],
   "source": [
    "train_house.groupby([\"Street\"]).count()[\"Id\"].max()"
   ]
  },
  {
   "cell_type": "code",
   "execution_count": null,
   "metadata": {},
   "outputs": [],
   "source": [
    "# Question 3) On possède un petit dataframe. On peut faire un groupby et compter le nombre de valeurs égales.\n",
    "# Note : pour les plus grosses bases de données, on cherchera des méthodes plus intelligentes (regarder la médiane et les quartiles)\n",
    "list_col_identical = []\n",
    "for my_col in train_house.columns:\n",
    "    if my_col != \"Id\":\n",
    "        if train_house.groupby([my_col]).count()[\"Id\"].max() >= (len(train_house) * 0.9):\n",
    "            list_col_identical.append(my_col)"
   ]
  },
  {
   "cell_type": "code",
   "execution_count": null,
   "metadata": {},
   "outputs": [],
   "source": [
    "print(f\"On possède {len(list_col_identical)} colonnes avec 90 % des valeurs identiques au moins. Ces colonnes sont les suivantes : {list_col_identical}.\")"
   ]
  },
  {
   "cell_type": "markdown",
   "metadata": {},
   "source": [
    "# Partie 2) Compréhension du prix des maisons.\n",
    "1) Tracez la distribution du prix des maisons. Que remarque-t-on ?\n",
    "2) De façon intuitive, le prix dépend de la taille. Tracez le prix des maisons en fonction de leur taille. Y a-t-il une relation linéaire ? Si oui, tracez sur votre graphe la droite.\n",
    "3) Identifiez les outliers de la question d'avant.\n",
    "4) Quelles sont les variables les plus corrélées avec le prix des maisons ?\n",
    "5) Certaines variables semblent redondantes. Quelles sont les variables avec une très forte corrélation entre elles ?\n",
    "5) Trouvez une visualisation pertinente qui relie le lien entre le prix des maisons et leur note globale.\n",
    "6) Les maisons récentes sont-elles plus chères que les maisons anciennes ?"
   ]
  },
  {
   "cell_type": "markdown",
   "metadata": {},
   "source": [
    "Récapitulatif de ce que l'on sait.\n",
    "\n",
    "Relation linéaire entre taille de la maison et son prix. Great. Relation avec la qualité de la maison. Pas de relation préciser avec année de vente. Relation avec année de construction. Pas mal de colonnes vides et inutiles + redondances"
   ]
  },
  {
   "cell_type": "code",
   "execution_count": null,
   "metadata": {},
   "outputs": [],
   "source": []
  },
  {
   "cell_type": "markdown",
   "metadata": {},
   "source": [
    "# Partie 3) Préparons la partie machine learning\n",
    "1) Au vue de la partie 1, quelles colonnes vous semblent pertinentes à ôter de notre dataframe ?\n",
    "2) Que faire des outliers identifiés en partie 2 ?\n",
    "2) Gérez les colonnes avec des valeurs manquantes.\n",
    "2) Y a-t-il des variables qui mériteraient d'être transformées ? (par exemple, on possède 4 variables en rapport avec les salles de bain)\n",
    "2) On constate que certaines de nos données catégoriques possèdent une hierarchie. Catégorisez-les de façon logique.\n",
    "3) Catégorisez le reste des données puis normalisez les. (Note : supprimez les catégories trop rares).\n",
    "3) Faites une régression linéaire. Visualisez les coefficients pour les différentes colonnes. Quelles sont les colonnes avec les plus forts coefficients ? Cela vous semble-t-il logique ?\n",
    "3) Faites un ridge regression avec différentes valeurs de Alpha. Visualisez les coefficients pour les différentes colonnes. Quelles sont les colonnes avec les plus forts coefficients ? Cela vous semble-t-il logique ?\n",
    "3) Essayez de faire une prédiction avec un arbre de décision (DecisionTreeRegressor). Ce modèle vous emble-t-il adapté à notre problème ?\n",
    "3) Il est temps de dévoiler notre puissance ! Utilisez un XGBoost et plions ce problème comme la crêpe insignifiante qu'il a toujours été !"
   ]
  },
  {
   "cell_type": "code",
   "execution_count": null,
   "metadata": {},
   "outputs": [],
   "source": []
  }
 ],
 "metadata": {
  "kernelspec": {
   "display_name": "Python 3",
   "language": "python",
   "name": "python3"
  },
  "language_info": {
   "codemirror_mode": {
    "name": "ipython",
    "version": 3
   },
   "file_extension": ".py",
   "mimetype": "text/x-python",
   "name": "python",
   "nbconvert_exporter": "python",
   "pygments_lexer": "ipython3",
   "version": "3.11.6"
  }
 },
 "nbformat": 4,
 "nbformat_minor": 2
}
